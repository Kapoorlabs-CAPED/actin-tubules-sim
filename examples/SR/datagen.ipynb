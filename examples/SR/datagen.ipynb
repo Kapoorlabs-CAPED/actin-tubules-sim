{
 "cells": [
  {
   "cell_type": "code",
   "execution_count": null,
   "metadata": {},
   "outputs": [],
   "source": [
    "import numpy as np\n",
    "import matplotlib.pyplot as plt \n",
    "from actin_tubules_sim.prepare_datasets import create_folders_SR, create_patches_reduced_target, RawDataScaled\n",
    "from csbdeep.utils import plot_some\n",
    "import ipywidgets as widgets"
   ]
  },
  {
   "cell_type": "code",
   "execution_count": null,
   "metadata": {},
   "outputs": [],
   "source": [
    "root_dir = '/Users/vkapoor/Downloads/Microtubules'\n",
    "create_folders_SR(root_dir)\n"
   ]
  },
  {
   "cell_type": "code",
   "execution_count": 10,
   "metadata": {},
   "outputs": [],
   "source": [
    "scale_gt = 2.0\n",
    "patch_size = 256\n",
    "n_patches_per_image = 10"
   ]
  },
  {
   "cell_type": "code",
   "execution_count": 11,
   "metadata": {},
   "outputs": [],
   "source": [
    "raw_data = RawDataScaled.from_folder (\n",
    "    basepath    = f'{root_dir}/Train/SR',\n",
    "    source_dirs = ['Raw'],\n",
    "    target_dir  = 'GT',\n",
    "    scale_gt = scale_gt,\n",
    "    axes        = 'ZYX',\n",
    ")"
   ]
  },
  {
   "cell_type": "code",
   "execution_count": null,
   "metadata": {},
   "outputs": [],
   "source": [
    "X, Y, XY_axes = create_patches_reduced_target (\n",
    "    raw_data            = raw_data,\n",
    "    patch_size          = (None,patch_size,patch_size),\n",
    "    n_patches_per_image = n_patches_per_image,\n",
    "    target_axes         = 'YX',\n",
    "    reduction_axes      = 'Z',\n",
    "    scale_gt = scale_gt,\n",
    "    save_file           = f'{root_dir}/Train/SR/microtubule_sr_training_data.npz',\n",
    ")"
   ]
  },
  {
   "cell_type": "code",
   "execution_count": null,
   "metadata": {},
   "outputs": [],
   "source": [
    "print(\"shape of X   =\", X.shape)\n",
    "print(\"shape of Y   =\", Y.shape)\n",
    "print(\"axes  of X,Y =\", XY_axes)"
   ]
  },
  {
   "cell_type": "code",
   "execution_count": null,
   "metadata": {},
   "outputs": [],
   "source": [
    "def plot_patches_on_demand(X, Y):\n",
    "    def plot_patches(i):\n",
    "        plt.figure(figsize=(6, 6))\n",
    "        sl = slice(i,  (i + 1)), 0\n",
    "        plot_some(X[sl], Y[sl], title_list=[np.arange(sl[0].start, sl[0].stop)])\n",
    "        plt.show()\n",
    "\n",
    "    i_slider = widgets.IntSlider(value=0, min=0, max=X.shape[0] -1, description='Index:')\n",
    "    widgets.interact(plot_patches, i=i_slider)\n",
    "\n",
    "plot_patches_on_demand(X, Y)"
   ]
  },
  {
   "cell_type": "code",
   "execution_count": null,
   "metadata": {},
   "outputs": [],
   "source": []
  }
 ],
 "metadata": {
  "kernelspec": {
   "display_name": "kapoorlabsenv",
   "language": "python",
   "name": "python3"
  },
  "language_info": {
   "codemirror_mode": {
    "name": "ipython",
    "version": 3
   },
   "file_extension": ".py",
   "mimetype": "text/x-python",
   "name": "python",
   "nbconvert_exporter": "python",
   "pygments_lexer": "ipython3",
   "version": "3.10.15"
  }
 },
 "nbformat": 4,
 "nbformat_minor": 2
}
