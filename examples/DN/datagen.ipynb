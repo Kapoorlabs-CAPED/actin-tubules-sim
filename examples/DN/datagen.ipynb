{
 "cells": [
  {
   "cell_type": "code",
   "execution_count": 1,
   "metadata": {},
   "outputs": [],
   "source": [
    "import numpy as np\n",
    "import matplotlib.pyplot as plt \n",
    "from actin_tubules_sim.prepare_datasets import create_folders_DN, create_patches, RawData\n",
    "from csbdeep.utils import plot_some\n",
    "import ipywidgets as widgets"
   ]
  },
  {
   "cell_type": "code",
   "execution_count": 2,
   "metadata": {},
   "outputs": [
    {
     "name": "stderr",
     "output_type": "stream",
     "text": [
      "/Users/vkapoor/miniconda3/envs/kapoorlabsenv/lib/python3.10/site-packages/mrcfile/mrcinterpreter.py:206: RuntimeWarning: Map ID string not found - not an MRC file, or file is corrupt\n",
      "  warnings.warn(msg, RuntimeWarning)\n",
      "/Users/vkapoor/miniconda3/envs/kapoorlabsenv/lib/python3.10/site-packages/mrcfile/mrcinterpreter.py:216: RuntimeWarning: Unrecognised machine stamp: 0x00 0x00 0x00 0x00\n",
      "  warnings.warn(str(err), RuntimeWarning)\n"
     ]
    }
   ],
   "source": [
    "root_dir = '/Users/vkapoor/Downloads/Microtubules'\n",
    "create_folders_DN(root_dir)"
   ]
  },
  {
   "cell_type": "code",
   "execution_count": 3,
   "metadata": {},
   "outputs": [],
   "source": [
    "patch_size_xy = 128\n",
    "patch_size_z = 9\n",
    "n_patches_per_image = 10"
   ]
  },
  {
   "cell_type": "code",
   "execution_count": 4,
   "metadata": {},
   "outputs": [],
   "source": [
    "raw_data = RawData.from_folder (\n",
    "    basepath    = f'{root_dir}/Train/DN',\n",
    "    source_dirs = ['Raw'],\n",
    "    target_dir  = 'GT',\n",
    "    axes        = 'ZYX',\n",
    ")"
   ]
  },
  {
   "cell_type": "code",
   "execution_count": 5,
   "metadata": {},
   "outputs": [
    {
     "name": "stdout",
     "output_type": "stream",
     "text": [
      "==================================================================\n",
      "   55 raw images x    1 transformations   =    55 images\n",
      "   55 images     x   10 patches per image =   550 patches in total\n",
      "==================================================================\n",
      "Input data:\n",
      "/Users/vkapoor/Downloads/Microtubules/Train/DN: target='GT', sources=['Raw'], axes='ZYX', pattern='*.tif*'\n",
      "==================================================================\n",
      "Transformations:\n",
      "1 x Identity\n",
      "==================================================================\n",
      "128 x 128\n",
      "Patch size:\n",
      "9 x 128 x 128\n",
      "==================================================================\n"
     ]
    },
    {
     "name": "stderr",
     "output_type": "stream",
     "text": [
      "100%|██████████| 55/55 [02:08<00:00,  2.34s/it]\n"
     ]
    },
    {
     "name": "stdout",
     "output_type": "stream",
     "text": [
      "Saving data to /Users/vkapoor/Downloads/Microtubules/Train/DN/microtubule_dn_training_data.npz.\n",
      "5 (550, 1, 9, 128, 128) 5 (550, 1, 9, 128, 128)\n"
     ]
    }
   ],
   "source": [
    "X, Y, XY_axes = create_patches (\n",
    "    raw_data            = raw_data,\n",
    "    patch_size          = (patch_size_z,patch_size_xy,patch_size_xy),\n",
    "    n_patches_per_image = n_patches_per_image,\n",
    "    save_file           = f'{root_dir}/Train/DN/microtubule_dn_training_data.npz',\n",
    ")"
   ]
  },
  {
   "cell_type": "code",
   "execution_count": 6,
   "metadata": {},
   "outputs": [
    {
     "name": "stdout",
     "output_type": "stream",
     "text": [
      "shape of X   = (550, 1, 9, 128, 128)\n",
      "shape of Y   = (550, 1, 9, 128, 128)\n",
      "axes  of X,Y = SCZYX\n"
     ]
    }
   ],
   "source": [
    "print(\"shape of X   =\", X.shape)\n",
    "print(\"shape of Y   =\", Y.shape)\n",
    "print(\"axes  of X,Y =\", XY_axes)"
   ]
  },
  {
   "cell_type": "code",
   "execution_count": 7,
   "metadata": {},
   "outputs": [
    {
     "data": {
      "application/vnd.jupyter.widget-view+json": {
       "model_id": "e39c07f3b79441c694b1dd0ef276fab1",
       "version_major": 2,
       "version_minor": 0
      },
      "text/plain": [
       "interactive(children=(IntSlider(value=0, description='Index:', max=549), Output()), _dom_classes=('widget-inte…"
      ]
     },
     "metadata": {},
     "output_type": "display_data"
    }
   ],
   "source": [
    "def plot_patches_on_demand(X, Y):\n",
    "    def plot_patches(i):\n",
    "        plt.figure(figsize=(6, 6))\n",
    "        sl = slice(i,  (i + 1)), 0\n",
    "        plot_some(X[sl], Y[sl], title_list=[np.arange(sl[0].start, sl[0].stop)])\n",
    "        plt.show()\n",
    "\n",
    "    i_slider = widgets.IntSlider(value=0, min=0, max=X.shape[0] -1, description='Index:')\n",
    "    widgets.interact(plot_patches, i=i_slider)\n",
    "\n",
    "plot_patches_on_demand(X, Y)"
   ]
  },
  {
   "cell_type": "code",
   "execution_count": null,
   "metadata": {},
   "outputs": [],
   "source": []
  }
 ],
 "metadata": {
  "kernelspec": {
   "display_name": "kapoorlabsenv",
   "language": "python",
   "name": "python3"
  },
  "language_info": {
   "codemirror_mode": {
    "name": "ipython",
    "version": 3
   },
   "file_extension": ".py",
   "mimetype": "text/x-python",
   "name": "python",
   "nbconvert_exporter": "python",
   "pygments_lexer": "ipython3",
   "version": "3.10.13"
  }
 },
 "nbformat": 4,
 "nbformat_minor": 2
}
