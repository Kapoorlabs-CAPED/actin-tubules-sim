{
 "cells": [
  {
   "cell_type": "code",
   "execution_count": null,
   "metadata": {},
   "outputs": [],
   "source": [
    "import numpy as np\n",
    "import matplotlib.pyplot as plt \n",
    "from actin_tubules_sim.prepare_datasets import create_folders_DN, create_patches, RawData\n",
    "from csbdeep.utils import plot_some\n",
    "import ipywidgets as widgets"
   ]
  },
  {
   "cell_type": "code",
   "execution_count": null,
   "metadata": {},
   "outputs": [],
   "source": [
    "root_dir = '/Users/vkapoor/Downloads/Microtubules'\n",
    "create_folders_DN(root_dir)"
   ]
  },
  {
   "cell_type": "code",
   "execution_count": null,
   "metadata": {},
   "outputs": [],
   "source": [
    "patch_size_xy = 128\n",
    "patch_size_z = 9\n",
    "n_patches_per_image = 10"
   ]
  },
  {
   "cell_type": "code",
   "execution_count": null,
   "metadata": {},
   "outputs": [],
   "source": [
    "raw_data = RawData.from_folder (\n",
    "    basepath    = f'{root_dir}/Train/DN',\n",
    "    source_dirs = ['Raw'],\n",
    "    target_dir  = 'GT',\n",
    "    axes        = 'ZYX',\n",
    ")"
   ]
  },
  {
   "cell_type": "code",
   "execution_count": null,
   "metadata": {},
   "outputs": [],
   "source": [
    "X, Y, XY_axes = create_patches (\n",
    "    raw_data            = raw_data,\n",
    "    patch_size          = (patch_size_z,patch_size_xy,patch_size_xy),\n",
    "    n_patches_per_image = n_patches_per_image,\n",
    "    save_file           = f'{root_dir}/Train/DN/microtubule_dn_training_data.npz',\n",
    ")"
   ]
  },
  {
   "cell_type": "code",
   "execution_count": null,
   "metadata": {},
   "outputs": [],
   "source": [
    "print(\"shape of X   =\", X.shape)\n",
    "print(\"shape of Y   =\", Y.shape)\n",
    "print(\"axes  of X,Y =\", XY_axes)"
   ]
  },
  {
   "cell_type": "code",
   "execution_count": null,
   "metadata": {},
   "outputs": [],
   "source": [
    "def plot_patches_on_demand(X, Y):\n",
    "    def plot_patches(i):\n",
    "        plt.figure(figsize=(6, 6))\n",
    "        sl = slice(i,  (i + 1)), 0\n",
    "        plot_some(X[sl], Y[sl], title_list=[np.arange(sl[0].start, sl[0].stop)])\n",
    "        plt.show()\n",
    "\n",
    "    i_slider = widgets.IntSlider(value=0, min=0, max=X.shape[0] -1, description='Index:')\n",
    "    widgets.interact(plot_patches, i=i_slider)\n",
    "\n",
    "plot_patches_on_demand(X, Y)"
   ]
  }
 ],
 "metadata": {
  "kernelspec": {
   "display_name": "kapoorlabsenv",
   "language": "python",
   "name": "python3"
  },
  "language_info": {
   "name": "python",
   "version": "3.10.13"
  }
 },
 "nbformat": 4,
 "nbformat_minor": 2
}
