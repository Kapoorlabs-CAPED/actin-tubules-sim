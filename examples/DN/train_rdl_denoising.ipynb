{
 "cells": [
  {
   "cell_type": "code",
   "execution_count": null,
   "metadata": {},
   "outputs": [],
   "source": [
    "import datetime\n",
    "from csbdeep.io import load_training_data\n",
    "from csbdeep.utils import axes_dict, plot_some, plot_history\n",
    "import matplotlib.pyplot as plt\n",
    "from actin_tubules_sim.models import Denoiser, Train_RDL_Denoising\n",
    "from actin_tubules_sim.loss import mse_ssim\n",
    "import tensorflow as tf\n",
    "import os\n",
    "from pathlib import Path\n",
    "from tensorflow.keras.optimizers import Adam\n",
    "from tensorflow.keras import callbacks\n",
    "from tensorflow.keras.models import load_model"
   ]
  },
  {
   "cell_type": "code",
   "execution_count": null,
   "metadata": {},
   "outputs": [],
   "source": [
    "root_dir = '/Users/vkapoor/Downloads/Microtubules'\n",
    "den_model_dir = Path(root_dir)/'DenoisingCARE'\n",
    "sr_model_dir = Path(root_dir)/'SRModel'\n",
    "Path(den_model_dir).mkdir(exist_ok=True)\n",
    "Path(sr_model_dir).mkdir(exist_ok=True)\n",
    "train_data_file = f'{root_dir}/Train/DN/microtubule_dn_training_data.npz'\n",
    "log_dir = \"logs/fitDN/\" + datetime.datetime.now().strftime(\"%Y%m%d-%H%M%S\")"
   ]
  },
  {
   "cell_type": "code",
   "execution_count": null,
   "metadata": {},
   "outputs": [],
   "source": [
    "(X,Y), (X_val,Y_val), axes = load_training_data(train_data_file, validation_split=0.1, verbose=True)\n",
    "\n",
    "c = axes_dict(axes)['C']\n",
    "n_channel_in, n_channel_out = X.shape[c], Y.shape[c]\n",
    "\n",
    "X = tf.squeeze(X, axis=-1)\n",
    "X_val = tf.squeeze(X_val, axis=-1)\n",
    "Y = tf.squeeze(Y, axis=-1)\n",
    "Y_val = tf.squeeze(Y_val, axis=-1)\n",
    "X = tf.transpose(X, perm=[0, 2, 3, 1])\n",
    "X_val = tf.transpose(X_val, perm=[0, 2, 3, 1])\n",
    "Y = tf.transpose(Y, perm=[0, 2, 3, 1])\n",
    "Y_val = tf.transpose(Y_val, perm=[0, 2, 3, 1])\n"
   ]
  },
  {
   "cell_type": "code",
   "execution_count": null,
   "metadata": {},
   "outputs": [],
   "source": [
    "X.shape,Y.shape,X_val.shape"
   ]
  },
  {
   "cell_type": "code",
   "execution_count": null,
   "metadata": {},
   "outputs": [],
   "source": [
    "plt.figure(figsize=(12,5))\n",
    "plot_some(tf.transpose(X_val[:5], perm=[0, 3, 1, 2]),tf.transpose(Y_val[:5], perm=[0, 3, 1, 2]))\n",
    "plt.suptitle('5 example validation patches (top row: source, bottom row: target)')"
   ]
  },
  {
   "cell_type": "code",
   "execution_count": null,
   "metadata": {},
   "outputs": [],
   "source": [
    "init_lr = 1e-4\n",
    "batch_size = 3\n",
    "epochs = 10\n",
    "beta_1=0.9\n",
    "beta_2=0.999\n",
    "wavelength = 0.488 \n",
    "excNA = 1.35\n",
    "dx = 62.6e-3\n",
    "dy = dx\n",
    "dxy = dx \n",
    "scale_gt = 2.0\n",
    "setupNUM = 1\n",
    "space = wavelength/excNA\n",
    "k0mod = 1 / space\n",
    "napodize = 10\n",
    "nphases = 3\n",
    "ndirs = 3\n",
    "sigma_x = 1\n",
    "sigma_y = 1\n",
    "recalcarrays = 2\n",
    "ifshowmodamp = 0\n",
    "norders = int((nphases + 1) / 2)\n",
    "if setupNUM == 0:\n",
    "     k0angle_c = [1.48, 2.5272, 3.5744]\n",
    "     k0angle_g = [0.0908, -0.9564, -2.0036]  \n",
    "if setupNUM == 1:\n",
    "     k0angle_c = [-1.66, -0.6128, 0.4344]\n",
    "     k0angle_g = [3.2269, 2.1797, 1.1325]      \n",
    "if setupNUM == 2:\n",
    "     k0angle_c = [1.5708, 2.618, 3.6652]\n",
    "     k0angle_g = [0, -1.0472, -2.0944] \n",
    "total_data,  height, width, channels = X.shape"
   ]
  },
  {
   "cell_type": "code",
   "execution_count": null,
   "metadata": {},
   "outputs": [],
   "source": [
    "parameters = {\n",
    "    'Ny': height,\n",
    "    'Nx': width,\n",
    "    'wavelength':wavelength,\n",
    "    'excNA':excNA,\n",
    "    'ndirs':ndirs,\n",
    "    'nphases':nphases,\n",
    "    'init_lr': init_lr,\n",
    "    'ifshowmodamp':ifshowmodamp,\n",
    "    'batch_size': batch_size,\n",
    "    'epochs': epochs,\n",
    "    'beta_1':beta_1,\n",
    "    'beta_2':beta_2,\n",
    "    'scale_gt': scale_gt,\n",
    "    'setupNUM': setupNUM,\n",
    "    'k0angle_c':k0angle_c,\n",
    "    'k0angle_g':k0angle_g,\n",
    "    'recalcarrays':recalcarrays,\n",
    "    'dxy':dxy,\n",
    "    'space':space,\n",
    "    'k0mod':k0mod,\n",
    "    'norders':norders,\n",
    "    'napodize':napodize,\n",
    "    'scale': scale_gt,\n",
    "    'sigma_x': sigma_x,\n",
    "    'sigma_y': sigma_y\n",
    "}"
   ]
  },
  {
   "cell_type": "code",
   "execution_count": null,
   "metadata": {},
   "outputs": [],
   "source": [
    "if len(os.listdir(sr_model_dir)) > 0:\n",
    "\n",
    "  with tf.keras.utils.custom_object_scope({'mse_ssim': mse_ssim}):\n",
    "    if len(os.listdir(sr_model_dir)) > 0:\n",
    "        print(f'Loading model from {sr_model_dir}')\n",
    "        Trainingmodel_dfcan = load_model(sr_model_dir)\n",
    "else:\n",
    "  assert 'DFCAN model has to be trained before training RDL denosier'        "
   ]
  },
  {
   "cell_type": "code",
   "execution_count": null,
   "metadata": {},
   "outputs": [],
   "source": [
    "Trainingmodel_denoise = Denoiser((height, width, nphases))\n",
    "optimizer = Adam(learning_rate=init_lr, beta_1=beta_1, beta_2=beta_2)\n",
    "Trainingmodel_denoise.compile(loss=mse_ssim, optimizer=optimizer)\n",
    "Trainingmodel_denoise.summary()\n",
    "\n",
    "tensorboard_callback = callbacks.TensorBoard(log_dir=log_dir, histogram_freq=1)\n",
    "lrate = callbacks.ReduceLROnPlateau(monitor='loss', factor=0.1, patience=4, verbose=1)\n",
    "hrate = callbacks.History()"
   ]
  },
  {
   "cell_type": "markdown",
   "metadata": {},
   "source": [
    "## Training\n",
    "Training the model will likely take some time. We recommend to monitor the progress with [TensorBoard](https://www.tensorflow.org/programmers_guide/summaries_and_tensorboard), which allows you to inspect the losses during training.\n",
    "\n",
    "You can start TensorBoard from the current working directory with `tensorboard --logdir=.` Then connect to http://localhost:6006/ with your browser."
   ]
  },
  {
   "cell_type": "code",
   "execution_count": null,
   "metadata": {},
   "outputs": [],
   "source": [
    "rdl_denoising = Train_RDL_Denoising(\n",
    "                    srmodel=Trainingmodel_dfcan, \n",
    "                    denmodel=Trainingmodel_denoise,\n",
    "                    loss_fn=mse_ssim,\n",
    "                    optimizer=optimizer,\n",
    "                    parameters = parameters)"
   ]
  },
  {
   "cell_type": "code",
   "execution_count": null,
   "metadata": {},
   "outputs": [],
   "source": [
    "rdl_denoising.fit((X,Y))"
   ]
  },
  {
   "cell_type": "code",
   "execution_count": null,
   "metadata": {},
   "outputs": [],
   "source": [
    "\n"
   ]
  }
 ],
 "metadata": {
  "kernelspec": {
   "display_name": "kapoorlabsenv",
   "language": "python",
   "name": "python3"
  },
  "language_info": {
   "codemirror_mode": {
    "name": "ipython",
    "version": 3
   },
   "file_extension": ".py",
   "mimetype": "text/x-python",
   "name": "python",
   "nbconvert_exporter": "python",
   "pygments_lexer": "ipython3",
   "version": "3.10.12"
  }
 },
 "nbformat": 4,
 "nbformat_minor": 2
}
